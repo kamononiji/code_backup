{
 "cells": [
  {
   "cell_type": "code",
   "execution_count": 20,
   "metadata": {},
   "outputs": [],
   "source": [
    "import cv2\n",
    "import numpy as np\n",
    "import glob\n",
    "import os\n",
    "import sys"
   ]
  },
  {
   "cell_type": "code",
   "execution_count": null,
   "metadata": {},
   "outputs": [],
   "source": [
    "name = ('kazuki')\n",
    "f_path0 = os.path.join('F:\\Nagasawat\\research\\')\n",
    "f_path1 = os.path.join(os.path.dirname(f_path0), name, )"
   ]
  },
  {
   "cell_type": "code",
   "execution_count": 21,
   "metadata": {},
   "outputs": [],
   "source": [
    "cap = cv2.imread(r'H:\\Nagasawat\\research\\191223_takumi\\191226_suto\\suto4\\Cam 3\\2019-12-26 14-30-55.660_Cam 3_1_0.bmp')\n",
    "width = int(cap.shape[1])\n",
    "height = int(cap.shape[0])\n",
    "fps = 60"
   ]
  },
  {
   "cell_type": "code",
   "execution_count": 23,
   "metadata": {},
   "outputs": [
    {
     "name": "stdout",
     "output_type": "stream",
     "text": [
      "Processing... (7201 / 7200)"
     ]
    }
   ],
   "source": [
    "for j in range(4,5):\n",
    "    files = glob.glob(r'H:\\Nagasawat\\research\\191223_takumi\\191226_suto\\suto{s_n}\\Cam 3\\*'.format(s_n=j))\n",
    "    i = 0\n",
    "\n",
    "    for f in files:\n",
    "        img = cv2.imread(f)\n",
    "        cv2.imwrite(r'H:\\Nagasawat\\research\\191223_takumi\\191226_suto\\suto{s_n}\\image\\1_{f_n:04}.bmp'.format(s_n=j, f_n=i), img)\n",
    "        i += 1\n",
    "        \n",
    "        sys.stdout.flush()\n",
    "        sys.stdout.write('\\rProcessing... (%d / 7200)' %(i))"
   ]
  },
  {
   "cell_type": "code",
   "execution_count": null,
   "metadata": {},
   "outputs": [],
   "source": []
  }
 ],
 "metadata": {
  "kernelspec": {
   "display_name": "Python 3",
   "language": "python",
   "name": "python3"
  },
  "language_info": {
   "codemirror_mode": {
    "name": "ipython",
    "version": 3
   },
   "file_extension": ".py",
   "mimetype": "text/x-python",
   "name": "python",
   "nbconvert_exporter": "python",
   "pygments_lexer": "ipython3",
   "version": "3.6.7"
  }
 },
 "nbformat": 4,
 "nbformat_minor": 2
}
